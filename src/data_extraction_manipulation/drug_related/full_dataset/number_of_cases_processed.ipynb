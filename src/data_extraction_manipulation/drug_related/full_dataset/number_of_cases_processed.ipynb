{
 "cells": [
  {
   "cell_type": "markdown",
   "metadata": {
    "application/vnd.databricks.v1+cell": {
     "cellMetadata": {},
     "inputWidgets": {},
     "nuid": "e31adbc0-7b81-4ae9-bd7a-08774322583d",
     "showTitle": false,
     "title": ""
    }
   },
   "source": [
    "# number of cases after type amount extraction"
   ]
  },
  {
   "cell_type": "code",
   "execution_count": 10,
   "metadata": {
    "application/vnd.databricks.v1+cell": {
     "cellMetadata": {
      "byteLimit": 2048000,
      "rowLimit": 10000
     },
     "inputWidgets": {},
     "nuid": "fe71c52b-cbae-46e2-a9ae-9f32217ebb50",
     "showTitle": false,
     "title": ""
    }
   },
   "outputs": [
    {
     "name": "stdout",
     "output_type": "stream",
     "text": [
      "Skipping non-CSV file: .DS_Store\n",
      "Total number of cases across all files: 274656\n"
     ]
    }
   ],
   "source": [
    "import csv\n",
    "import os\n",
    "import sys  # Import sys to modify the maximum field size\n",
    "\n",
    "def count_rows_in_csv(file_path):\n",
    "    csv.field_size_limit(sys.maxsize)  # Increase the maximum field size limit\n",
    "    with open(file_path, 'r', encoding='utf-8') as file:\n",
    "        reader = csv.reader(file)\n",
    "        header = next(reader)  # Skip the header row\n",
    "        row_count = sum(1 for row in reader)  # Count rows in the CSV\n",
    "    return row_count\n",
    "\n",
    "def count_rows_in_directory(directory_path):\n",
    "    total_cases = 0\n",
    "    # List all files in the directory\n",
    "    for filename in os.listdir(directory_path):\n",
    "        file_path = os.path.join(directory_path, filename)\n",
    "        # Check if the file is a CSV\n",
    "        if filename.endswith('.csv'):\n",
    "            cases_in_file = count_rows_in_csv(file_path)\n",
    "            #print(f\"Number of cases in {filename}: {cases_in_file}\")\n",
    "            total_cases += cases_in_file\n",
    "        else:\n",
    "            print(f\"Skipping non-CSV file: {filename}\")\n",
    "    return total_cases\n",
    "\n",
    "# Specify the directory containing your CSV files\n",
    "directory_path = '/Users/jiaruisong/Documents/Coding/INFO 288 Big Data and Development_Data/drug_related_full_dataset_percent_type_amount'\n",
    "total_number_of_cases = count_rows_in_directory(directory_path)\n",
    "\n",
    "print(f\"Total number of cases across all files: {total_number_of_cases}\")\n"
   ]
  },
  {
   "cell_type": "markdown",
   "metadata": {},
   "source": [
    "# numer of cases after type amount cleaning and combine - drop rows with empty drug amount."
   ]
  },
  {
   "cell_type": "code",
   "execution_count": 11,
   "metadata": {},
   "outputs": [
    {
     "name": "stdout",
     "output_type": "stream",
     "text": [
      "Skipping non-CSV file: .DS_Store\n",
      "Total number of cases across all files: 269431\n"
     ]
    }
   ],
   "source": [
    "import csv\n",
    "import os\n",
    "import sys  # Import sys to modify the maximum field size\n",
    "\n",
    "def count_rows_in_csv(file_path):\n",
    "    csv.field_size_limit(sys.maxsize)  # Increase the maximum field size limit\n",
    "    with open(file_path, 'r', encoding='utf-8') as file:\n",
    "        reader = csv.reader(file)\n",
    "        header = next(reader)  # Skip the header row\n",
    "        row_count = sum(1 for row in reader)  # Count rows in the CSV\n",
    "    return row_count\n",
    "\n",
    "def count_rows_in_directory(directory_path):\n",
    "    total_cases = 0\n",
    "    # List all files in the directory\n",
    "    for filename in os.listdir(directory_path):\n",
    "        file_path = os.path.join(directory_path, filename)\n",
    "        # Check if the file is a CSV\n",
    "        if filename.endswith('.csv'):\n",
    "            cases_in_file = count_rows_in_csv(file_path)\n",
    "            #print(f\"Number of cases in {filename}: {cases_in_file}\")\n",
    "            total_cases += cases_in_file\n",
    "        else:\n",
    "            print(f\"Skipping non-CSV file: {filename}\")\n",
    "    return total_cases\n",
    "\n",
    "# Specify the directory containing your CSV files\n",
    "directory_path = '/Users/jiaruisong/Documents/Coding/INFO 288 Big Data and Development_Data/drug_related_full_dataset_type_amount_cleaned'\n",
    "total_number_of_cases = count_rows_in_directory(directory_path)\n",
    "\n",
    "print(f\"Total number of cases across all files: {total_number_of_cases}\")\n"
   ]
  },
  {
   "cell_type": "markdown",
   "metadata": {},
   "source": [
    "# number of cases after penalty extraction."
   ]
  },
  {
   "cell_type": "code",
   "execution_count": 14,
   "metadata": {},
   "outputs": [
    {
     "name": "stdout",
     "output_type": "stream",
     "text": [
      "Skipping non-CSV file: .DS_Store\n",
      "Total number of cases across all files: 269431\n"
     ]
    }
   ],
   "source": [
    "import csv\n",
    "import os\n",
    "import sys  # Import sys to modify the maximum field size\n",
    "\n",
    "def count_rows_in_csv(file_path):\n",
    "    csv.field_size_limit(sys.maxsize)  # Increase the maximum field size limit\n",
    "    with open(file_path, 'r', encoding='utf-8') as file:\n",
    "        reader = csv.reader(file)\n",
    "        header = next(reader)  # Skip the header row\n",
    "        row_count = sum(1 for row in reader)  # Count rows in the CSV\n",
    "    return row_count\n",
    "\n",
    "def count_rows_in_directory(directory_path):\n",
    "    total_cases = 0\n",
    "    # List all files in the directory\n",
    "    for filename in os.listdir(directory_path):\n",
    "        file_path = os.path.join(directory_path, filename)\n",
    "        # Check if the file is a CSV\n",
    "        if filename.endswith('.csv'):\n",
    "            cases_in_file = count_rows_in_csv(file_path)\n",
    "            #print(f\"Number of cases in {filename}: {cases_in_file}\")\n",
    "            total_cases += cases_in_file\n",
    "        else:\n",
    "            print(f\"Skipping non-CSV file: {filename}\")\n",
    "    return total_cases\n",
    "\n",
    "# Specify the directory containing your CSV files\n",
    "directory_path = '/Users/jiaruisong/Documents/Coding/INFO 288 Big Data and Development_Data/drug_related_full_dataset_type_amount_cleaned_penalty'\n",
    "total_number_of_cases = count_rows_in_directory(directory_path)\n",
    "\n",
    "print(f\"Total number of cases across all files: {total_number_of_cases}\")\n"
   ]
  },
  {
   "cell_type": "markdown",
   "metadata": {},
   "source": [
    "# number of case after lawyer extraction"
   ]
  },
  {
   "cell_type": "code",
   "execution_count": 17,
   "metadata": {},
   "outputs": [
    {
     "name": "stdout",
     "output_type": "stream",
     "text": [
      "Skipping non-CSV file: .DS_Store\n",
      "Total number of cases across all files: 265528\n"
     ]
    }
   ],
   "source": [
    "import csv\n",
    "import os\n",
    "import sys  # Import sys to modify the maximum field size\n",
    "\n",
    "def count_rows_in_csv(file_path):\n",
    "    csv.field_size_limit(sys.maxsize)  # Increase the maximum field size limit\n",
    "    with open(file_path, 'r', encoding='utf-8') as file:\n",
    "        reader = csv.reader(file)\n",
    "        header = next(reader)  # Skip the header row\n",
    "        row_count = sum(1 for row in reader)  # Count rows in the CSV\n",
    "    return row_count\n",
    "\n",
    "def count_rows_in_directory(directory_path):\n",
    "    total_cases = 0\n",
    "    # List all files in the directory\n",
    "    for filename in os.listdir(directory_path):\n",
    "        file_path = os.path.join(directory_path, filename)\n",
    "        # Check if the file is a CSV\n",
    "        if filename.endswith('.csv'):\n",
    "            cases_in_file = count_rows_in_csv(file_path)\n",
    "            #print(f\"Number of cases in {filename}: {cases_in_file}\")\n",
    "            total_cases += cases_in_file\n",
    "        else:\n",
    "            print(f\"Skipping non-CSV file: {filename}\")\n",
    "    return total_cases\n",
    "\n",
    "# Specify the directory containing your CSV files\n",
    "directory_path = '/Users/jiaruisong/Documents/Coding/INFO 288 Big Data and Development_Data/drug_related_full_dataset_type_amount_cleaned_penalty_lawyer'\n",
    "total_number_of_cases = count_rows_in_directory(directory_path)\n",
    "\n",
    "print(f\"Total number of cases across all files: {total_number_of_cases}\")"
   ]
  },
  {
   "cell_type": "markdown",
   "metadata": {},
   "source": [
    "# number of lawyer presentations."
   ]
  },
  {
   "cell_type": "code",
   "execution_count": 18,
   "metadata": {},
   "outputs": [
    {
     "name": "stdout",
     "output_type": "stream",
     "text": [
      "Skipping non-CSV file: .DS_Store\n",
      "Total number of cases with a lawyer: 78445\n",
      "Total number of cases with a public defender: 24587\n",
      "Total number of cases with a private attorney: 53894\n"
     ]
    }
   ],
   "source": [
    "import csv\n",
    "import os\n",
    "import sys  # Import sys to modify the maximum field size\n",
    "\n",
    "def count_rows_in_csv(file_path):\n",
    "    csv.field_size_limit(sys.maxsize)  # Increase the maximum field size limit\n",
    "    lawyer_count = 0\n",
    "    public_defender_count = 0\n",
    "    private_attorney_count = 0\n",
    "    with open(file_path, 'r', encoding='utf-8') as file:\n",
    "        reader = csv.reader(file)\n",
    "        header = next(reader)  # Skip the header row\n",
    "        lawyer_index = header.index('lawyer')  # Get the index for the lawyer column\n",
    "        public_defender_index = header.index('public_defender')  # Get the index for the public defender column\n",
    "        private_attorney_index = header.index('private_attorney')  # Get the index for the private attorney column\n",
    "        \n",
    "        for row in reader:\n",
    "            if row[lawyer_index] == '1':\n",
    "                lawyer_count += 1\n",
    "            if row[public_defender_index] == '1':\n",
    "                public_defender_count += 1\n",
    "            if row[private_attorney_index] == '1':\n",
    "                private_attorney_count += 1\n",
    "\n",
    "    return lawyer_count, public_defender_count, private_attorney_count\n",
    "\n",
    "def count_roles_in_directory(directory_path):\n",
    "    total_lawyer_cases = 0\n",
    "    total_public_defender_cases = 0\n",
    "    total_private_attorney_cases = 0\n",
    "    # List all files in the directory\n",
    "    for filename in os.listdir(directory_path):\n",
    "        file_path = os.path.join(directory_path, filename)\n",
    "        # Check if the file is a CSV\n",
    "        if filename.endswith('.csv'):\n",
    "            lawyer_cases, public_defender_cases, private_attorney_cases = count_rows_in_csv(file_path)\n",
    "            total_lawyer_cases += lawyer_cases\n",
    "            total_public_defender_cases += public_defender_cases\n",
    "            total_private_attorney_cases += private_attorney_cases\n",
    "        else:\n",
    "            print(f\"Skipping non-CSV file: {filename}\")\n",
    "    return total_lawyer_cases, total_public_defender_cases, total_private_attorney_cases\n",
    "\n",
    "# Specify the directory containing your CSV files\n",
    "directory_path = '/Users/jiaruisong/Documents/Coding/INFO 288 Big Data and Development_Data/drug_related_full_dataset_type_amount_cleaned_penalty_lawyer'\n",
    "total_lawyer_cases, total_public_defender_cases, total_private_attorney_cases = count_roles_in_directory(directory_path)\n",
    "\n",
    "print(f\"Total number of cases with a lawyer: {total_lawyer_cases}\")\n",
    "print(f\"Total number of cases with a public defender: {total_public_defender_cases}\")\n",
    "print(f\"Total number of cases with a private attorney: {total_private_attorney_cases}\")\n"
   ]
  }
 ],
 "metadata": {
  "application/vnd.databricks.v1+notebook": {
   "dashboards": [],
   "language": "python",
   "notebookMetadata": {
    "pythonIndentUnit": 4
   },
   "notebookName": "number_of_cases",
   "widgets": {}
  },
  "kernelspec": {
   "display_name": "base",
   "language": "python",
   "name": "python3"
  },
  "language_info": {
   "codemirror_mode": {
    "name": "ipython",
    "version": 3
   },
   "file_extension": ".py",
   "mimetype": "text/x-python",
   "name": "python",
   "nbconvert_exporter": "python",
   "pygments_lexer": "ipython3",
   "version": "3.11.5"
  }
 },
 "nbformat": 4,
 "nbformat_minor": 0
}
