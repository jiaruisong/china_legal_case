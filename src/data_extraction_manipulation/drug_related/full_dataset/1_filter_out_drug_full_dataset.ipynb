{
 "cells": [
  {
   "cell_type": "markdown",
   "metadata": {
    "application/vnd.databricks.v1+cell": {
     "cellMetadata": {},
     "inputWidgets": {},
     "nuid": "2a6e20d3-9956-48c1-9db7-6afccfcc5a95",
     "showTitle": false,
     "title": ""
    }
   },
   "source": [
    "# Goal\n",
    "\n",
    "filter out 一审 drug_related cases. store them in datalake gen 2."
   ]
  },
  {
   "cell_type": "markdown",
   "metadata": {
    "application/vnd.databricks.v1+cell": {
     "cellMetadata": {},
     "inputWidgets": {},
     "nuid": "36217b79-d045-4c9e-9fa8-369191b087e2",
     "showTitle": false,
     "title": ""
    }
   },
   "source": [
    "assemble folder paths"
   ]
  },
  {
   "cell_type": "code",
   "execution_count": 0,
   "metadata": {
    "application/vnd.databricks.v1+cell": {
     "cellMetadata": {
      "byteLimit": 2048000,
      "rowLimit": 10000
     },
     "inputWidgets": {},
     "nuid": "43ec8092-5912-44ab-a3fc-cf1437a16b3e",
     "showTitle": false,
     "title": ""
    }
   },
   "outputs": [],
   "source": [
    "base_path = \"/mnt/blob_berkeley_account\"\n",
    "folder_names = [f\"{base_path}/{year}_judgment_data\" for year in range(2016, 2022)] # does here need a dash?\n",
    "\n",
    "def list_csv_files(path):\n",
    "    \"\"\"\n",
    "    List all CSV files recursively within a given path.\n",
    "    \"\"\"\n",
    "    files = []\n",
    "    for item in dbutils.fs.ls(path):\n",
    "        if item.path.endswith(\".csv\"):\n",
    "            files.append(item.path)\n",
    "        elif item.isDir():  # If the item is a directory, recurse\n",
    "            files.extend(list_csv_files(item.path))\n",
    "    return files\n"
   ]
  },
  {
   "cell_type": "markdown",
   "metadata": {
    "application/vnd.databricks.v1+cell": {
     "cellMetadata": {},
     "inputWidgets": {},
     "nuid": "4b89cc52-1006-4a0d-b773-e4921f5d75e8",
     "showTitle": false,
     "title": ""
    }
   },
   "source": [
    "select relevant columns, rename them into English"
   ]
  },
  {
   "cell_type": "code",
   "execution_count": 0,
   "metadata": {
    "application/vnd.databricks.v1+cell": {
     "cellMetadata": {
      "byteLimit": 2048000,
      "rowLimit": 10000
     },
     "inputWidgets": {},
     "nuid": "2fc909ad-c1ed-4b02-bf2e-eb59702490b9",
     "showTitle": false,
     "title": ""
    }
   },
   "outputs": [],
   "source": [
    "column_mapping = {\n",
    "    \"原始链接\": \"OriginalLink\",\n",
    "    \"案号\": \"CaseNumber\",\n",
    "    \"案件名称\": \"CaseName\",\n",
    "    \"法院\": \"Court\",\n",
    "    \"所属地区\": \"Location\",\n",
    "    \"案件类型\": \"CaseType\",\n",
    "    \"审理程序\": \"TrialProcedure\",\n",
    "    \"裁判日期\": \"JudgmentDate\",\n",
    "    \"公开日期\": \"PublicationDate\",\n",
    "    \"当事人\": \"PartiesInvolved\",\n",
    "    \"案由\": \"CausesofAction\",\n",
    "    \"法律依据\": \"LegalBasis\",\n",
    "    \"全文\": \"FullText\"\n",
    "}\n"
   ]
  },
  {
   "cell_type": "markdown",
   "metadata": {
    "application/vnd.databricks.v1+cell": {
     "cellMetadata": {},
     "inputWidgets": {},
     "nuid": "617879f1-6db4-4860-8336-2229ef9e443d",
     "showTitle": false,
     "title": ""
    }
   },
   "source": [
    "Select columns, rename, filter out CaseReasons, them sample the data."
   ]
  },
  {
   "cell_type": "code",
   "execution_count": 0,
   "metadata": {
    "application/vnd.databricks.v1+cell": {
     "cellMetadata": {
      "byteLimit": 2048000,
      "rowLimit": 10000
     },
     "inputWidgets": {},
     "nuid": "78272e7e-b730-48ee-98b1-66f22d79451d",
     "showTitle": false,
     "title": ""
    }
   },
   "outputs": [],
   "source": [
    "from pyspark.sql.functions import col\n",
    "import re\n",
    "\n",
    "# Causes of Action to filter\n",
    "causes_of_action = {\n",
    "    \"毒品\": \"drug_related\",  # Mapping \"毒品\" to \"drug_related\"\n",
    "}\n",
    "\n",
    "for folder in folder_names:\n",
    "    csv_files = list_csv_files(folder)\n",
    "    for file_path in csv_files:\n",
    "        # Read the CSV file into a DataFrame\n",
    "        df = spark.read.csv(file_path, header=True, inferSchema=True)\n",
    "        \n",
    "        # Select and rename the relevant columns\n",
    "        df_selected_and_renamed = df.select([col(c).alias(column_mapping[c]) for c in column_mapping.keys()])\n",
    "        \n",
    "        # Filter to include only cases that mention \"刑事\" in CaseType\n",
    "        df_criminal_cases = df_selected_and_renamed.filter(col(\"CaseType\").contains(\"刑事\"))\n",
    "        \n",
    "        df_first_trial = df_criminal_cases.filter(col(\"TrialProcedure\").contains(\"一审\"))\n",
    "        \n",
    "        # Loop through each cause of action, filter and process/save\n",
    "        for cause, output_suffix in causes_of_action.items():\n",
    "            df_filtered = df_first_trial.filter(col(\"CausesofAction\").contains(cause))\n",
    "\n",
    "            # Extract year and month from file_path\n",
    "            match = re.search(r'(\\d{4})_(\\d{2})_judgment\\.csv', file_path)\n",
    "            if match:\n",
    "                year = match.group(1)  # Example: '2013'\n",
    "                month = match.group(2)  # Example: '01'\n",
    "            else:\n",
    "                raise ValueError(f\"Month pattern not found in the file path: {file_path}\")\n",
    "\n",
    "            saved_file_name = f\"{year}_{month}_{output_suffix}_judgment_data\"\n",
    "\n",
    "            # Define the full path for saving the DataFrame\n",
    "            full_path = f\"/mnt/processed_data_criminal_case_analysis/{output_suffix}_full_dataset/{saved_file_name}\"\n",
    "            \n",
    "            # Save the DataFrame\n",
    "            df_filtered.write.mode(\"overwrite\").option(\"header\", \"true\").csv(full_path)\n"
   ]
  },
  {
   "cell_type": "markdown",
   "metadata": {
    "application/vnd.databricks.v1+cell": {
     "cellMetadata": {},
     "inputWidgets": {},
     "nuid": "d5a68447-ca35-4871-811e-4fdc76f3be47",
     "showTitle": false,
     "title": ""
    }
   },
   "source": [
    "# Test code for the a small data set\n",
    " "
   ]
  },
  {
   "cell_type": "code",
   "execution_count": 0,
   "metadata": {
    "application/vnd.databricks.v1+cell": {
     "cellMetadata": {
      "byteLimit": 2048000,
      "rowLimit": 10000
     },
     "inputWidgets": {},
     "nuid": "4d03bc24-d0ef-4a40-847a-355559f93051",
     "showTitle": false,
     "title": ""
    }
   },
   "outputs": [],
   "source": [
    "# checking the mount status\n",
    "display(dbutils.fs.ls(\"/mnt/processed_data_criminal_case_analysis\"))\n",
    "display(dbutils.fs.ls(\"/mnt/processed_data_criminal_case_analysis/2013_judgment_data\"))"
   ]
  },
  {
   "cell_type": "code",
   "execution_count": 0,
   "metadata": {
    "application/vnd.databricks.v1+cell": {
     "cellMetadata": {
      "byteLimit": 2048000,
      "rowLimit": 10000
     },
     "inputWidgets": {},
     "nuid": "0d165d93-9a97-4a76-9eb3-08670fe324a7",
     "showTitle": false,
     "title": ""
    }
   },
   "outputs": [],
   "source": [
    "from pyspark.sql.functions import col\n",
    "import re\n",
    "\n",
    "base_path = \"/mnt/processed_data_criminal_case_analysis\"\n",
    "folder_names = [\"/mnt/processed_data_criminal_case_analysis/2013_judgment_data\"]\n",
    "\n",
    "def list_csv_files(path):\n",
    "    \"\"\"\n",
    "    List all CSV files recursively within a given path.\n",
    "    \"\"\"\n",
    "    files = []\n",
    "    for item in dbutils.fs.ls(path):\n",
    "        if item.path.endswith(\".csv\"):\n",
    "            files.append(item.path)\n",
    "        elif item.isDir():  # If the item is a directory, recurse\n",
    "            files.extend(list_csv_files(item.path))\n",
    "    return files\n",
    "\n",
    "# Causes of Action to filter and sample\n",
    "causes_of_action = {\n",
    "    \n",
    "    \"盗窃\": \"theft\",\n",
    "    \"交通肇事\": \"traffic_accidents\",\n",
    "    \"毒品\": \"drug_related\",\n",
    "    \"诈骗\": \"fraud\"\n",
    "}\n",
    "\n",
    "sample_fraction = 0.01\n",
    "\n",
    "for folder in folder_names:\n",
    "    csv_files = list_csv_files(folder)\n",
    "    for file_path in csv_files:\n",
    "        # Read the CSV file into a DataFrame\n",
    "        df = spark.read.csv(file_path, header=True, inferSchema=True)\n",
    "        \n",
    "        # Select and rename the relevant columns\n",
    "        df_selected_and_renamed = df.select([col(c).alias(column_mapping[c]) for c in column_mapping.keys()])\n",
    "        \n",
    "        # Filter to include only cases that mention \"刑事\" in CaseType\n",
    "        df_criminal_cases = df_selected_and_renamed.filter(col(\"CaseType\").contains(\"刑事\"))\n",
    "        \n",
    "        # Loop through each cause of action, filter, sample, and process/save\n",
    "        for cause, output_suffix in causes_of_action.items():\n",
    "            df_filtered = df_criminal_cases.filter(col(\"CausesofAction\").contains(cause))\n",
    "            sampled_df = df_filtered.sample(fraction=sample_fraction)  # Sample the filtered DataFrame\n",
    "\n",
    "            # Extract year and month from file_path\n",
    "            match = re.search(r'(\\d{4})年(\\d{2})月裁判文书数据\\.csv', file_path)\n",
    "            if match:\n",
    "                year = match.group(1)  # '2013'\n",
    "                month = match.group(2)  # '01'\n",
    "            else:\n",
    "                raise ValueError(\"Month pattern not found in the file path.\")\n",
    "\n",
    "            saved_file_name = f\"{year}_{month}_{output_suffix}_judgment_data\"\n",
    "            \n",
    "            # Define the full path for saving the DataFrame\n",
    "            full_path = f\"/mnt/processed_data_criminal_case_analysis/{output_suffix}/{saved_file_name}\"\n",
    "            \n",
    "            # Save the DataFrame\n",
    "            sampled_df.coalesce(1).write.mode(\"overwrite\").option(\"header\", \"true\").csv(full_path)\n",
    "            \n",
    "\n"
   ]
  }
 ],
 "metadata": {
  "application/vnd.databricks.v1+notebook": {
   "dashboards": [],
   "language": "python",
   "notebookMetadata": {
    "pythonIndentUnit": 4
   },
   "notebookName": "filter_out_drug_full_dataset",
   "widgets": {}
  },
  "language_info": {
   "name": "python"
  }
 },
 "nbformat": 4,
 "nbformat_minor": 0
}
