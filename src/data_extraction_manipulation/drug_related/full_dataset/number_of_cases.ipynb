{
 "cells": [
  {
   "cell_type": "markdown",
   "metadata": {
    "application/vnd.databricks.v1+cell": {
     "cellMetadata": {},
     "inputWidgets": {},
     "nuid": "e31adbc0-7b81-4ae9-bd7a-08774322583d",
     "showTitle": false,
     "title": ""
    }
   },
   "source": [
    "how many cases are there after sampling?"
   ]
  },
  {
   "cell_type": "code",
   "execution_count": null,
   "metadata": {
    "application/vnd.databricks.v1+cell": {
     "cellMetadata": {
      "byteLimit": 2048000,
      "rowLimit": 10000
     },
     "inputWidgets": {},
     "nuid": "fe71c52b-cbae-46e2-a9ae-9f32217ebb50",
     "showTitle": false,
     "title": ""
    }
   },
   "outputs": [
    {
     "name": "stdout",
     "output_type": "stream",
     "text": [
      "盗窃案件数: 11750\n",
      "交通肇事案件数: 3635\n",
      "毒品案件数: 6812\n",
      "诈骗案件数: 4514\n"
     ]
    }
   ],
   "source": [
    "from pyspark.sql import SparkSession\n",
    "from pyspark.sql.functions import lit\n",
    "\n",
    "# Initialize Spark session\n",
    "spark = SparkSession.builder.appName(\"CountCases\").getOrCreate()\n",
    "\n",
    "# Base path where the data is saved\n",
    "base_path = \"/mnt/processed_data_criminal_case_analysis/drug_related_full_dataset\"\n",
    "\n",
    "\n",
    "# Construct the path to read the saved files for the current cause of action\n",
    "path = f\"{base_path}/*/*.csv\"\n",
    "\n",
    "# Read the saved data\n",
    "df = spark.read.csv(path, header=True, inferSchema=True)\n",
    "\n",
    "# Count the number of cases for the current cause of action\n",
    "count = df.count()\n",
    "\n",
    "\n",
    "\n",
    "# Print the counts for each cause of action\n",
    "\n",
    "print(f\"案件数: {count}\")\n"
   ]
  }
 ],
 "metadata": {
  "application/vnd.databricks.v1+notebook": {
   "dashboards": [],
   "language": "python",
   "notebookMetadata": {
    "pythonIndentUnit": 4
   },
   "notebookName": "Data Discovery - how many cases are there",
   "widgets": {}
  },
  "language_info": {
   "name": "python"
  }
 },
 "nbformat": 4,
 "nbformat_minor": 0
}
