{
 "cells": [
  {
   "cell_type": "code",
   "execution_count": 0,
   "metadata": {
    "application/vnd.databricks.v1+cell": {
     "cellMetadata": {
      "byteLimit": 2048000,
      "rowLimit": 10000
     },
     "inputWidgets": {},
     "nuid": "68b76fa9-a138-4649-9b26-cae855200fe4",
     "showTitle": false,
     "title": ""
    }
   },
   "outputs": [],
   "source": [
    "%pip install pyahocorasick  # Install known missing dependency first\n",
    "%pip install git+https://github.com/jiaruisong/chinese_province_city_area_mapper.git"
   ]
  },
  {
   "cell_type": "code",
   "execution_count": 0,
   "metadata": {
    "application/vnd.databricks.v1+cell": {
     "cellMetadata": {
      "byteLimit": 2048000,
      "rowLimit": 10000
     },
     "inputWidgets": {},
     "nuid": "7f77bee8-48fd-46f9-accc-8a5f5cb25071",
     "showTitle": false,
     "title": ""
    }
   },
   "outputs": [],
   "source": [
    "court_names = [\n",
    "    \"江苏省高级人民法院\",\n",
    "    \"株洲市芦淞区人民法院\",\n",
    "    \"湖南省高级人民法院\",\n",
    "    \"云南省曲靖市中级人民法院\",\n",
    "    \"湖南省长沙市中级人民法院\",\n",
    "    \"湖南省长沙市中级人民法院\",\n",
    "    \"上海市第二中级人民法院\",\n",
    "    \"南宁市江南区人民法院\",\n",
    "    \"不存在县人民法院\",\n",
    "    \"深圳市龙岗区人民法院\"\n",
    "]\n",
    "import cpca\n",
    "df = cpca.transform(court_names)\n",
    "print(df)"
   ]
  }
 ],
 "metadata": {
  "application/vnd.databricks.v1+notebook": {
   "dashboards": [],
   "language": "python",
   "notebookMetadata": {
    "pythonIndentUnit": 4
   },
   "notebookName": "location_extraction",
   "widgets": {}
  },
  "language_info": {
   "name": "python"
  }
 },
 "nbformat": 4,
 "nbformat_minor": 0
}
