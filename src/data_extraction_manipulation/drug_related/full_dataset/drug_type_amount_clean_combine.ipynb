{
 "cells": [
  {
   "cell_type": "markdown",
   "metadata": {},
   "source": [
    "# clean drug type\n",
    "\n",
    "## inspect unqiue value"
   ]
  },
  {
   "cell_type": "code",
   "execution_count": null,
   "metadata": {},
   "outputs": [],
   "source": [
    "import os\n",
    "import pandas as pd\n",
    "\n",
    "\n",
    "def align_dataframe(base_path, cause):\n",
    "    # Using dbutils.fs.ls to list directories/files\n",
    "    files = dbutils.fs.ls(base_path)\n",
    "\n",
    "    # Initialize a list to collect all unique values across files\n",
    "    unique_values = []\n",
    "    i = 0\n",
    "\n",
    "    for sub_file in files:\n",
    "        if sub_file.name.endswith(\".csv\"):\n",
    "            # Reading CSV file into DataFrame\n",
    "            # Convert to local file path if necessary\n",
    "            file_path = sub_file.path.replace(\"dbfs:\", \"/dbfs\")\n",
    "            df = pd.read_csv(file_path, on_bad_lines='skip')\n",
    "\n",
    "            i += 1\n",
    "            \n",
    "            for x in ['a', 'b']:\n",
    "                try:\n",
    "                    # Get unique values from the dataframe\n",
    "                    unique_drug_values = df[f'drug_{x}'].unique()\n",
    "                    # Store them in the list\n",
    "                    unique_values.extend(unique_drug_values)\n",
    "                    print(f\"{i}, Unique values for drug_{x} in {file_path}: {unique_drug_values}\")\n",
    "                except KeyError:\n",
    "                    print(\"key error\", x, \"in file path:\", file_path)\n",
    "                    continue\n",
    "    \n",
    "    # Find overall unique values across all files\n",
    "    overall_unique_values = set(unique_values)\n",
    "    print(\"Overall unique values across all files:\", overall_unique_values)\n",
    "\n",
    "\n",
    "base_path = \"mnt/processed_data_criminal_case_analysis/drug_related_DrugTypeAmount_Penalty_Location_DataframeAlignment_March_20\"\n",
    "\n",
    "causes_of_action = [\"drug_related\"]\n",
    "\n",
    "for cause in causes_of_action:\n",
    "    align_dataframe(base_path, cause)"
   ]
  }
 ],
 "metadata": {
  "language_info": {
   "name": "python"
  }
 },
 "nbformat": 4,
 "nbformat_minor": 2
}
